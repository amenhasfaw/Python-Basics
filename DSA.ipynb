{
 "cells": [
  {
   "cell_type": "markdown",
   "metadata": {},
   "source": [
    "## PREREQUISITIES\n",
    "- Basic Python\n",
    "- Big O notation "
   ]
  },
  {
   "cell_type": "markdown",
   "metadata": {},
   "source": [
    "## WEEK ONE"
   ]
  },
  {
   "attachments": {},
   "cell_type": "markdown",
   "metadata": {},
   "source": [
    "1. Arrays & Lists"
   ]
  },
  {
   "cell_type": "code",
   "execution_count": 2,
   "metadata": {},
   "outputs": [
    {
     "name": "stdout",
     "output_type": "stream",
     "text": [
      "Array \n",
      "\n",
      "1\n",
      "2\n",
      "3\n",
      "4\n",
      "5\n"
     ]
    }
   ],
   "source": [
    "from array import *\n",
    "\n",
    "print(\"Array \\n\")\n",
    "\n",
    "nums = array('i',[1,2,3,4,5])\n",
    "for x in nums:\n",
    "    print(x)\n"
   ]
  },
  {
   "cell_type": "code",
   "execution_count": 3,
   "metadata": {},
   "outputs": [
    {
     "name": "stdout",
     "output_type": "stream",
     "text": [
      "Accesing an Array\n",
      "3\n",
      "4\n"
     ]
    }
   ],
   "source": [
    "print(\"Accesing an Array\")\n",
    "\n",
    "print(nums[2])\n",
    "print(nums[3])"
   ]
  },
  {
   "cell_type": "code",
   "execution_count": 11,
   "metadata": {},
   "outputs": [
    {
     "name": "stdout",
     "output_type": "stream",
     "text": [
      "Insertion\n",
      "5\n",
      "2\n",
      "3\n",
      "4\n",
      "5\n",
      "6\n"
     ]
    }
   ],
   "source": [
    "print(\"Insertion\")\n",
    "\n",
    "nums.insert(5,6)\n",
    "\n",
    "for x in nums:\n",
    "    print(x)"
   ]
  },
  {
   "cell_type": "code",
   "execution_count": 12,
   "metadata": {},
   "outputs": [
    {
     "name": "stdout",
     "output_type": "stream",
     "text": [
      "Deletion\n",
      "\n",
      "5\n",
      "2\n",
      "3\n",
      "4\n",
      "5\n",
      "Searching \n",
      "\n",
      "2\n",
      "Updating\n",
      "\n",
      "5\n",
      "2\n",
      "3\n",
      "4\n",
      "5\n"
     ]
    }
   ],
   "source": [
    "print(\"Deletion\\n\")\n",
    "\n",
    "nums.remove(6)\n",
    "\n",
    "for x in nums:\n",
    "    print(x)\n",
    "\n",
    "\n",
    "print(\"Searching \\n\")\n",
    "\n",
    "print(nums.index(3))\n",
    "\n",
    "print(\"Updating\\n\")\n",
    "\n",
    "nums[0] = 5\n",
    "\n",
    "for x in nums:\n",
    "    print(x)"
   ]
  },
  {
   "attachments": {},
   "cell_type": "markdown",
   "metadata": {},
   "source": [
    "LISTS"
   ]
  },
  {
   "cell_type": "code",
   "execution_count": 17,
   "metadata": {},
   "outputs": [
    {
     "name": "stdout",
     "output_type": "stream",
     "text": [
      "Index\n",
      "Amen\n",
      "Itteration\n",
      "Amen\n",
      "23\n",
      "1.8\n",
      "Updating\n",
      "Amen\n",
      "23\n",
      "1.79\n",
      "Deleting\n",
      "Amen\n",
      "23\n"
     ]
    }
   ],
   "source": [
    "list1 = [\"Amen\" , 23, 1.80]\n",
    "\n",
    "print(\"Index\")\n",
    "print(list1[0])\n",
    "\n",
    "print(\"Itteration\")\n",
    "\n",
    "for x in list1:\n",
    "    print(x)\n",
    "\n",
    "print(\"Updating\")\n",
    "list1[2] = 1.79\n",
    "\n",
    "for x in list1:\n",
    "    print(x)\n",
    "\n",
    "print(\"Deleting\")\n",
    "del list1[2]\n",
    "\n",
    "for x in list1:\n",
    "    print(x)\n",
    "\n",
    "\n",
    "\n"
   ]
  },
  {
   "cell_type": "markdown",
   "metadata": {},
   "source": [
    "2. Strings"
   ]
  },
  {
   "cell_type": "code",
   "execution_count": 55,
   "metadata": {},
   "outputs": [
    {
     "name": "stdout",
     "output_type": "stream",
     "text": [
      "\n",
      "- Strings act like an Array\n",
      "\n",
      "\n",
      "B\n",
      "a\n",
      "n\n",
      "a\n",
      "n\n",
      "a\n",
      "\n",
      " Length\n",
      "6\n",
      "\n",
      " Substring checking\n",
      "True\n",
      "\n",
      " Formating\n",
      "My name is Amen and I am 23 years old\n"
     ]
    }
   ],
   "source": [
    "print(\"\"\"\n",
    "- Strings act like an Array\n",
    "\"\"\")\n",
    "\n",
    "print()\n",
    "\n",
    "word = \"Banana\"\n",
    "for i in word:\n",
    "    print(i)\n",
    "print(\"\\n Length\")\n",
    "print(len(word))\n",
    "\n",
    "print(\"\\n Substring checking\")\n",
    "print(\"nana\" in  word)\n",
    "\n",
    "print(\"\\n Formating\")\n",
    "\n",
    "name = \"Amen\"\n",
    "Age = 23\n",
    "print(\"My name is {} and I am {} years old\".format(name, Age))"
   ]
  },
  {
   "cell_type": "markdown",
   "metadata": {},
   "source": [
    "3. HashMaps (Dictionaries)"
   ]
  },
  {
   "cell_type": "code",
   "execution_count": 33,
   "metadata": {},
   "outputs": [
    {
     "name": "stdout",
     "output_type": "stream",
     "text": [
      "Creating\n",
      "Name Amen\n",
      "Age 23\n",
      "\n",
      "Updating\n",
      "Name Amen Habtamu\n",
      "Age 23\n",
      "College Jain University\n",
      "\n",
      "Accesing\n",
      "Name Amen Habtamu\n",
      "Age 23\n",
      "College Jain University\n",
      "\n",
      "Name:  Amen Habtamu\n",
      "\n",
      "Deletion\n",
      "Name Amen Habtamu\n",
      "College Jain University\n"
     ]
    },
    {
     "ename": "TypeError",
     "evalue": "'builtin_function_or_method' object is not iterable",
     "output_type": "error",
     "traceback": [
      "\u001b[0;31m---------------------------------------------------------------------------\u001b[0m",
      "\u001b[0;31mTypeError\u001b[0m                                 Traceback (most recent call last)",
      "Cell \u001b[0;32mIn [33], line 50\u001b[0m\n\u001b[1;32m     46\u001b[0m \u001b[39m#for Total Deletion of Dictionary\u001b[39;00m\n\u001b[1;32m     48\u001b[0m \u001b[39mdel\u001b[39;00m \u001b[39mhash\u001b[39m\n\u001b[0;32m---> 50\u001b[0m \u001b[39mfor\u001b[39;00m x \u001b[39min\u001b[39;00m \u001b[39mhash\u001b[39m:\n\u001b[1;32m     51\u001b[0m     \u001b[39mprint\u001b[39m(x, \u001b[39mhash\u001b[39m[x])\n\u001b[1;32m     54\u001b[0m \u001b[39mprint\u001b[39m()\n",
      "\u001b[0;31mTypeError\u001b[0m: 'builtin_function_or_method' object is not iterable"
     ]
    }
   ],
   "source": [
    "print(\"Creating\")\n",
    "\n",
    "hash = {\n",
    "    \"Name\" : \"Amen\",\n",
    "    \"Age\" : 23,\n",
    "}\n",
    "\n",
    "for x in hash:\n",
    "    print(x, hash[x])\n",
    "\n",
    "print()\n",
    "\n",
    "print(\"Updating\")\n",
    "\n",
    "hash[\"Name\"] = \"Amen Habtamu\"\n",
    "hash[\"College\"] = \"Jain University\"\n",
    "\n",
    "for x in hash:\n",
    "    print(x, hash[x])\n",
    "\n",
    "print()\n",
    "\n",
    "print(\"Accesing\")\n",
    "\n",
    "for x in hash:\n",
    "    print(x, hash[x])\n",
    "\n",
    "print()\n",
    "\n",
    "print(\"Name: \" , hash[\"Name\"])\n",
    "\n",
    "print()\n",
    "\n",
    "print(\"Deletion\")\n",
    "\n",
    "del hash[\"Age\"]\n",
    "\n",
    "for x in hash:\n",
    "    print(x, hash[x])\n",
    "\n",
    "hash.clear()\n",
    "\n",
    "for x in hash:\n",
    "    print(x, hash[x])#No output because Hash is cleared\n",
    "\n",
    "#for Total Deletion of Dictionary\n",
    "\n",
    "del hash\n",
    "\n",
    "for x in hash:\n",
    "    print(x, hash[x])\n",
    "\n",
    "\n",
    "print()\n"
   ]
  },
  {
   "cell_type": "markdown",
   "metadata": {},
   "source": [
    "4. Recursion"
   ]
  },
  {
   "cell_type": "markdown",
   "metadata": {},
   "source": [
    "## WEEK TWO"
   ]
  },
  {
   "cell_type": "markdown",
   "metadata": {},
   "source": [
    "1. Sorting and Searching"
   ]
  },
  {
   "cell_type": "code",
   "execution_count": 53,
   "metadata": {},
   "outputs": [
    {
     "name": "stdout",
     "output_type": "stream",
     "text": [
      "Binary Search Tree\n",
      "\n",
      "3\n",
      "4\n",
      "6\n",
      "7\n",
      "12\n",
      "14\n",
      "\n",
      " Inorder Search of Binary Tree\n",
      "[3, 4, 6, 7, 12, 14]\n",
      "\n",
      " Preorder Search of Binary Tree\n",
      "[12, 6, 3, 4, 7, 14]\n",
      "\n",
      " Postorder Search of Binary Tree\n",
      "[4, 3, 7, 6, 14, 12]\n"
     ]
    }
   ],
   "source": [
    "print(\"Binary Search Tree\\n\")\n",
    "\n",
    "class Binary:\n",
    "   def __init__(self, data):\n",
    "      self.left = None\n",
    "      self.right = None\n",
    "      self.data = data\n",
    "\n",
    "   def insert(self, data):\n",
    "    \n",
    "# Compare the new value with the parent Binary\n",
    "      if self.data:\n",
    "         if data < self.data:\n",
    "            if self.left is None:\n",
    "               self.left = Binary(data)\n",
    "            else:\n",
    "               self.left.insert(data)\n",
    "         elif data > self.data:\n",
    "            if self.right is None:\n",
    "                  self.right = Binary(data)\n",
    "            else:\n",
    "                  self.right.insert(data)\n",
    "         else:\n",
    "            self.data = data\n",
    "        \n",
    "    # Inorder traversal\n",
    "    # Left -> Root -> Right\n",
    "    \n",
    "   def inorderTraversal(self, root):\n",
    "        res = []\n",
    "        if root:\n",
    "            res = self.inorderTraversal(root.left)\n",
    "            res.append(root.data)\n",
    "            res = res + self.inorderTraversal(root.right)\n",
    "        return res\n",
    "\n",
    "   def PreorderTraversal(self, root):\n",
    "      res = []\n",
    "      if root:\n",
    "         res.append(root.data)\n",
    "         res = res + self.PreorderTraversal(root.left)\n",
    "         res = res + self.PreorderTraversal(root.right)\n",
    "      return res\n",
    "   \n",
    "   def PostorderTraversal(self, root):\n",
    "      res = []\n",
    "      if root:\n",
    "         res = self.PostorderTraversal(root.left)\n",
    "         res = res + self.PostorderTraversal(root.right)\n",
    "         res.append(root.data)\n",
    "      return res\n",
    "\n",
    "# Print the tree\n",
    "   def PrintTree(self):\n",
    "      if self.left:\n",
    "         self.left.PrintTree()\n",
    "      print( self.data),\n",
    "      if self.right:\n",
    "         self.right.PrintTree()\n",
    "\n",
    "# Use the insert method to add Binarys\n",
    "root = Binary(12)\n",
    "root.insert(6)\n",
    "root.insert(14)\n",
    "root.insert(3)\n",
    "root.insert(7)\n",
    "root.insert(4)\n",
    "root.PrintTree()\n",
    "print(\"\\n Inorder Search of Binary Tree\")\n",
    "print(root.inorderTraversal(root))\n",
    "print(\"\\n Preorder Search of Binary Tree\")\n",
    "print(root.PreorderTraversal(root))\n",
    "print(\"\\n Postorder Search of Binary Tree\")\n",
    "print(root.PostorderTraversal(root))\n"
   ]
  },
  {
   "attachments": {},
   "cell_type": "markdown",
   "metadata": {},
   "source": [
    "2. Matric and 2D Array"
   ]
  },
  {
   "cell_type": "code",
   "execution_count": 49,
   "metadata": {},
   "outputs": [
    {
     "name": "stdout",
     "output_type": "stream",
     "text": [
      "Creating\n",
      "\n",
      "Accessing\n",
      "3\n",
      "1 2 3 \n",
      "4 5 6 \n",
      "7 8 9 \n",
      "\n",
      "Updating\n",
      "0\n",
      "0 2 3 \n",
      "4 5 6 \n",
      "7 8 9 \n",
      "10 11 12 \n",
      "\n",
      "Deleting\n",
      "4 5 6 \n",
      "7 8 9 \n",
      "10 11 12 \n",
      "\n",
      "4 5 \n",
      "7 8 9 \n",
      "10 11 12 \n"
     ]
    }
   ],
   "source": [
    "print(\"Creating\")\n",
    "\n",
    "matrix = [[1,2,3],[4,5,6],[7,8,9]]\n",
    "\n",
    "print()\n",
    "\n",
    "print(\"Accessing\")\n",
    "\n",
    "print(matrix[0][2])\n",
    "for i in matrix:\n",
    "    for j in i:\n",
    "        print(j, end = \" \")\n",
    "    print()\n",
    "print()\n",
    "\n",
    "print(\"Updating\")\n",
    "matrix[0][0] = 0\n",
    "print(matrix[0][0])\n",
    "\n",
    "matrix.insert(3,[10,11,12])\n",
    "\n",
    "for i in matrix:\n",
    "    for j in i:\n",
    "        print(j, end=\" \")\n",
    "    print()\n",
    "\n",
    "\n",
    "print()\n",
    "\n",
    "print(\"Deleting\")\n",
    "\n",
    "del matrix[0]\n",
    "\n",
    "for i in matrix:\n",
    "    for j in i:\n",
    "        print(j, end=\" \")\n",
    "    print()\n",
    "print()\n",
    "del matrix[0][2]\n",
    "\n",
    "for i in matrix:\n",
    "    for j in i:\n",
    "        print(j, end=\" \")\n",
    "    print()\n",
    "\n"
   ]
  },
  {
   "cell_type": "markdown",
   "metadata": {},
   "source": [
    "3. Linked List"
   ]
  },
  {
   "cell_type": "code",
   "execution_count": 3,
   "metadata": {},
   "outputs": [
    {
     "name": "stdout",
     "output_type": "stream",
     "text": [
      "Creating a node: \n",
      "\n"
     ]
    }
   ],
   "source": [
    "# CREATING A NODE]\n",
    "print('Creating a node: \\n')\n",
    "\n",
    "class Node:\n",
    "    def __init__(self,data = None):\n",
    "        self.data = data\n",
    "        self.next = None\n",
    "\n",
    "class SlinkedList:\n",
    "    def __init__(self):\n",
    "        self.head = None\n",
    "\n",
    "    def atBeginning(self,newnode):\n",
    "        self.newnode = newnode\n",
    "        newnode.next = self.head\n",
    "        self.head = newnode\n",
    "\n",
    "    def atEnd(self,newnode):\n",
    "        self.newnode = newnode\n",
    "\n",
    "        End = self.head\n",
    "        while End.next is not None:\n",
    "            End = End.next\n",
    "        \n",
    "        End.next = newnode\n",
    "\n",
    "    def inMiddle(self,middleNode,newnode):\n",
    "        if middleNode is None:\n",
    "            print(\"Node not found\")\n",
    "        \n",
    "        self.middleNode = middleNode\n",
    "        self.newnode = newnode\n",
    "\n",
    "        newnode.next = middleNode.next\n",
    "        middleNode.next = newnode\n",
    "\n",
    "    \n",
    "    def RemoveNode(self, Removekey):\n",
    "        HeadVal = self.head\n",
    "            \n",
    "        if (HeadVal is not None):\n",
    "            if (HeadVal.data == Removekey):\n",
    "                self.head = HeadVal.next\n",
    "                HeadVal = None\n",
    "                return\n",
    "        while (HeadVal is not None):\n",
    "            if HeadVal.data == Removekey:\n",
    "                break\n",
    "            prev = HeadVal\n",
    "            HeadVal = HeadVal.next\n",
    "\n",
    "        if (HeadVal == None):\n",
    "            return\n",
    "\n",
    "        prev.next = HeadVal.next\n",
    "        HeadVal = None\n",
    "\n",
    "\n",
    "Days = SlinkedList()\n",
    "Days.head = Node(\"Monday\")\n",
    "two = Node(\"Tuesday\")\n",
    "three = Node(\"Wednesday\")\n",
    "four = Node(\"Thurday\")\n",
    "\n",
    "Days.head.next = two\n",
    "two.next = three\n",
    "three.next =  four"
   ]
  },
  {
   "cell_type": "code",
   "execution_count": 4,
   "metadata": {},
   "outputs": [
    {
     "name": "stdout",
     "output_type": "stream",
     "text": [
      "Traversing\n",
      "\n",
      "Monday\n",
      "Tuesday\n",
      "Wednesday\n",
      "Thurday\n"
     ]
    }
   ],
   "source": [
    "print(\"Traversing\\n\")\n",
    "\n",
    "def TraverseList(list):\n",
    "    start = list.head\n",
    "    while start is not None:\n",
    "        print(start.data)\n",
    "        start = start.next\n",
    "\n",
    "TraverseList(Days)"
   ]
  },
  {
   "cell_type": "code",
   "execution_count": 5,
   "metadata": {},
   "outputs": [
    {
     "name": "stdout",
     "output_type": "stream",
     "text": [
      "Inserting\n",
      "Sunday\n",
      "Monday\n",
      "Tuesday\n",
      "Wednesday\n",
      "Thurday\n",
      "\n",
      "\n",
      "Sunday\n",
      "Monday\n",
      "Tuesday\n",
      "Wednesday\n",
      "Thurday\n",
      "Friday\n",
      "\n",
      "\n",
      "Sunday\n",
      "Monday\n",
      "Tuesday\n",
      "Wednesday\n",
      "Wednesday 2\n",
      "Thurday\n",
      "Friday\n"
     ]
    }
   ],
   "source": [
    "print(\"Inserting\")\n",
    "\n",
    "initial = Node(\"Sunday\")\n",
    "Days.atBeginning(initial)\n",
    "TraverseList(Days)\n",
    "\n",
    "print()\n",
    "print()\n",
    "\n",
    "fifth = Node(\"Friday\")\n",
    "Days.atEnd(fifth)\n",
    "TraverseList(Days)\n",
    "\n",
    "print()\n",
    "print()\n",
    "\n",
    "six = Node(\"Wednesday 2\")\n",
    "Days.inMiddle(three, six)\n",
    "TraverseList(Days)"
   ]
  },
  {
   "cell_type": "code",
   "execution_count": 9,
   "metadata": {},
   "outputs": [
    {
     "name": "stdout",
     "output_type": "stream",
     "text": [
      "Removing a node\n",
      "Sunday\n",
      "Monday\n",
      "Tuesday\n",
      "Wednesday\n",
      "Thurday\n",
      "Friday\n"
     ]
    }
   ],
   "source": [
    "print(\"Removing a node\")\n",
    "\n",
    "Days.RemoveNode(\"Wednesday 2\")\n",
    "\n",
    "TraverseList(Days)"
   ]
  },
  {
   "cell_type": "code",
   "execution_count": 25,
   "metadata": {},
   "outputs": [
    {
     "name": "stdout",
     "output_type": "stream",
     "text": [
      "Doubly Linked List  \n",
      "\n",
      "62\n",
      "8\n",
      "12\n",
      "9\n",
      "45\n"
     ]
    }
   ],
   "source": [
    "print(\"Doubly Linked List  \\n\")\n",
    "\n",
    "class Node:\n",
    "   def __init__(self, data):\n",
    "      self.data = data\n",
    "      self.next = None\n",
    "      self.prev = None\n",
    "\n",
    "class doubly_linked_list:\n",
    "   def __init__(self):\n",
    "      self.head = None\n",
    "\n",
    "# Adding data elements\t\t\n",
    "   def push(self, NewVal):\n",
    "      NewNode = Node(NewVal)\n",
    "      NewNode.next = self.head\n",
    "      if self.head is not None:\n",
    "         self.head.prev = NewNode\n",
    "      self.head = NewNode\n",
    "\n",
    "# Define the append method to add elements at the end\n",
    "   def append(self, NewVal):\n",
    "      NewNode = Node(NewVal)\n",
    "      NewNode.next = None\n",
    "      if self.head is None:\n",
    "         NewNode.prev = None\n",
    "         self.head = NewNode\n",
    "         return\n",
    "      last = self.head\n",
    "      while (last.next is not None):\n",
    "         last = last.next\n",
    "      last.next = NewNode\n",
    "      NewNode.prev = last\n",
    "      return\n",
    "\n",
    "\n",
    "# Define the insert method to insert the element  \n",
    "   def insert(self, prev_node, NewVal):\n",
    "      if prev_node is None:\n",
    "         return\n",
    "      NewNode = Node(NewVal)\n",
    "      NewNode.next = prev_node.next\n",
    "      prev_node.next = NewNode\n",
    "      NewNode.prev = prev_node\n",
    "      if NewNode.next is not None:\n",
    "         NewNode.next.prev = NewNode\n",
    "\n",
    "\n",
    "# Print the Doubly Linked list\t\t\n",
    "   def listprint(self, node):\n",
    "      while (node is not None):\n",
    "         print(node.data),\n",
    "         last = node\n",
    "         node = node.next\n",
    "\n",
    "dllist = doubly_linked_list()\n",
    "dllist.push(12)\n",
    "dllist.append(9)\n",
    "dllist.push(8)\n",
    "dllist.push(62)\n",
    "dllist.append(45)\n",
    "dllist.listprint(dllist.head)\n"
   ]
  },
  {
   "cell_type": "markdown",
   "metadata": {},
   "source": [
    "4. Queue"
   ]
  },
  {
   "cell_type": "code",
   "execution_count": 21,
   "metadata": {},
   "outputs": [
    {
     "name": "stdout",
     "output_type": "stream",
     "text": [
      "QUEUE \n",
      "\n",
      "khalid\n",
      "joe\n",
      "Amen\n",
      "3\n",
      "\n",
      "khalid\n",
      "joe\n",
      "2\n"
     ]
    }
   ],
   "source": [
    "print(\"QUEUE \\n\")\n",
    "\n",
    "class Queue:\n",
    "    def __init__(self):\n",
    "        self.queue = []\n",
    "\n",
    "    def enque(self,value):\n",
    "        if value not in self.queue:\n",
    "            self.queue.insert(0,value)\n",
    "            return\n",
    "\n",
    "    def size(self):\n",
    "        return len(self.queue)\n",
    "\n",
    "    def deque(self):\n",
    "        if len(self.queue) != 0:\n",
    "            self.queue.pop()\n",
    "        else:\n",
    "            return (\"Empty Queue\")\n",
    "\n",
    "line = Queue()\n",
    "line.enque(\"Amen\")\n",
    "line.enque(\"joe\")\n",
    "line.enque(\"khalid\")\n",
    "\n",
    "for i in line.queue:\n",
    "    print(i)\n",
    "\n",
    "print(line.size())\n",
    "\n",
    "line.deque()\n",
    "\n",
    "print()\n",
    "for i in line.queue:\n",
    "    print(i)\n",
    "\n",
    "print(line.size())"
   ]
  },
  {
   "cell_type": "code",
   "execution_count": 23,
   "metadata": {},
   "outputs": [
    {
     "name": "stdout",
     "output_type": "stream",
     "text": [
      "DOUBLE ENDED QUEUE\n",
      "\n",
      "deque([1, 2, 3])\n",
      "\n",
      "Appended at right at left is - \n",
      "deque([0, 1, 2, 3])\n",
      "Deleting from right - \n",
      "deque([0, 1, 2])\n",
      "Deleting from left - \n",
      "deque([1, 2])\n"
     ]
    }
   ],
   "source": [
    "print(\"DOUBLE ENDED QUEUE\\n\")\n",
    "\n",
    "import collections\n",
    "\n",
    "DEnded = collections.deque([1,2,3])\n",
    "print(DEnded)\n",
    "print()\n",
    "\n",
    "DEnded.appendleft(0)\n",
    "print (\"Appended at right at left is - \")\n",
    "print (DEnded)\n",
    "\n",
    "DEnded.pop()\n",
    "print (\"Deleting from right - \")\n",
    "print (DEnded)\n",
    "\n",
    "DEnded.popleft()\n",
    "print (\"Deleting from left - \")\n",
    "print (DEnded)\n"
   ]
  },
  {
   "cell_type": "markdown",
   "metadata": {},
   "source": [
    "5. Stacks"
   ]
  },
  {
   "cell_type": "code",
   "execution_count": 17,
   "metadata": {},
   "outputs": [
    {
     "name": "stdout",
     "output_type": "stream",
     "text": [
      "Stack\n",
      "\n",
      "\n",
      "10\n",
      "20\n",
      "30\n",
      "40\n",
      "\n",
      "40\n",
      "30\n"
     ]
    }
   ],
   "source": [
    "print(\"Stack\\n\\n\")\n",
    "\n",
    "class Stack:\n",
    "    def __init__(self):\n",
    "        self.stack = []\n",
    "\n",
    "    def add(self,num):\n",
    "        if num not in self.stack:\n",
    "            self.stack.append(num)\n",
    "            return True\n",
    "        else:\n",
    "            return False\n",
    "\n",
    "    def peek(self):\n",
    "        return self.stack[-1]\n",
    "    \n",
    "    def remove(self):\n",
    "        if len(self.stack) != 0:\n",
    "            self.stack.pop()\n",
    "        else:\n",
    "            return (\"No element in stack\")\n",
    "\n",
    "\n",
    "Number = Stack()\n",
    "Number.add(10)\n",
    "Number.add(20)\n",
    "Number.add(30)\n",
    "Number.add(40)\n",
    "for i in Number.stack:\n",
    "    print(i)\n",
    "print()\n",
    "print(Number.peek())\n",
    "Number.remove()\n",
    "print(Number.peek())\n",
    "\n",
    "\n",
    "\n",
    "\n"
   ]
  },
  {
   "cell_type": "code",
   "execution_count": 18,
   "metadata": {},
   "outputs": [
    {
     "name": "stdout",
     "output_type": "stream",
     "text": [
      "For easy implementation of Stack we use pop and append on a list..\n"
     ]
    }
   ],
   "source": [
    "print(\"For easy implementation of Stack we use pop and append on a list..\")"
   ]
  },
  {
   "cell_type": "markdown",
   "metadata": {},
   "source": [
    "## WEEK THREE"
   ]
  },
  {
   "cell_type": "markdown",
   "metadata": {},
   "source": [
    "1. Tree"
   ]
  },
  {
   "cell_type": "code",
   "execution_count": 36,
   "metadata": {},
   "outputs": [
    {
     "name": "stdout",
     "output_type": "stream",
     "text": [
      "Tree\n",
      "\n",
      "3\n",
      "3\n",
      "3\n",
      "14\n"
     ]
    }
   ],
   "source": [
    "print(\"Tree\\n\")\n",
    "\n",
    "class Tree:\n",
    "   def __init__(self, data):\n",
    "      self.left = None\n",
    "      self.right = None\n",
    "      self.data = data\n",
    "\n",
    "   def insert(self, data):\n",
    "    \n",
    "# Compare the new value with the parent Tree\n",
    "      if self.data:\n",
    "         if data < self.data:\n",
    "            if self.left is None:\n",
    "               self.left = Tree(data)\n",
    "            else:\n",
    "               self.left.insert(data)\n",
    "         if data > self.data:\n",
    "            if self.right is None:\n",
    "                  self.right = Tree(data)\n",
    "            else:\n",
    "                  self.right.insert(data)\n",
    "         else:\n",
    "            self.data = data\n",
    "\n",
    "\n",
    "# Print the tree\n",
    "   def PrintTree(self):\n",
    "      if self.left:\n",
    "         self.left.PrintTree()\n",
    "      print( self.data),\n",
    "      if self.right:\n",
    "         self.right.PrintTree()\n",
    "\n",
    "root = Tree(12)\n",
    "root.insert(6)\n",
    "root.insert(14)\n",
    "root.insert(3)\n",
    "root.PrintTree()"
   ]
  },
  {
   "cell_type": "markdown",
   "metadata": {},
   "source": [
    "2. Graph"
   ]
  },
  {
   "cell_type": "code",
   "execution_count": null,
   "metadata": {},
   "outputs": [],
   "source": []
  },
  {
   "cell_type": "markdown",
   "metadata": {},
   "source": [
    "3. Heap"
   ]
  },
  {
   "cell_type": "code",
   "execution_count": 48,
   "metadata": {},
   "outputs": [
    {
     "name": "stdout",
     "output_type": "stream",
     "text": [
      "HEAP\n",
      "\n",
      "[12, 44, 64, 21, 25, 15] \n",
      "\n",
      "HEAPIFIED\n",
      "[12, 21, 15, 44, 25, 64] \n",
      "\n",
      "DELETING\n",
      "[15, 21, 64, 44, 25] \n",
      "\n",
      "ADDING\n",
      "[3, 21, 15, 44, 25, 64]\n",
      "[3, 21, 15, 44, 25, 64, 30] \n",
      "\n",
      "Replacing\n",
      "[4, 21, 15, 44, 25, 64, 30]\n"
     ]
    }
   ],
   "source": [
    "print(\"HEAP\\n\")\n",
    "\n",
    "\n",
    "import heapq\n",
    "\n",
    "\n",
    "ages = [12,44,64,21,25,15]\n",
    "print(ages,\"\\n\")\n",
    "\n",
    "heapq.heapify(ages)\n",
    "print(\"HEAPIFIED\")\n",
    "print(ages,\"\\n\")\n",
    "\n",
    "print(\"DELETING\")\n",
    "\n",
    "heapq.heappop(ages)\n",
    "print(ages,\"\\n\")\n",
    "\n",
    "print(\"ADDING\")\n",
    "\n",
    "heapq.heappush(ages,3)\n",
    "print(ages)\n",
    "\n",
    "heapq.heappush(ages,30)\n",
    "print(ages,\"\\n\")\n",
    "\n",
    "print(\"Replacing\")\n",
    "\n",
    "heapq.heapreplace(ages,4)\n",
    "print(ages)\n",
    "\n"
   ]
  },
  {
   "cell_type": "markdown",
   "metadata": {},
   "source": [
    "4. Trie"
   ]
  },
  {
   "cell_type": "markdown",
   "metadata": {},
   "source": [
    "## WEEK FOUR"
   ]
  },
  {
   "cell_type": "markdown",
   "metadata": {},
   "source": [
    "1. Interval"
   ]
  },
  {
   "cell_type": "markdown",
   "metadata": {},
   "source": [
    "2. Dynamic Programming"
   ]
  },
  {
   "cell_type": "markdown",
   "metadata": {},
   "source": [
    "3. Binary"
   ]
  },
  {
   "cell_type": "markdown",
   "metadata": {},
   "source": [
    "4. Math and Geometry"
   ]
  }
 ],
 "metadata": {
  "kernelspec": {
   "display_name": "Python 3.10.7 64-bit",
   "language": "python",
   "name": "python3"
  },
  "language_info": {
   "codemirror_mode": {
    "name": "ipython",
    "version": 3
   },
   "file_extension": ".py",
   "mimetype": "text/x-python",
   "name": "python",
   "nbconvert_exporter": "python",
   "pygments_lexer": "ipython3",
   "version": "3.10.7"
  },
  "orig_nbformat": 4,
  "vscode": {
   "interpreter": {
    "hash": "aee8b7b246df8f9039afb4144a1f6fd8d2ca17a180786b69acc140d282b71a49"
   }
  }
 },
 "nbformat": 4,
 "nbformat_minor": 2
}
