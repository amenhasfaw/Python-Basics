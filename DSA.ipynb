{
 "cells": [
  {
   "cell_type": "markdown",
   "metadata": {},
   "source": [
    "## PREREQUISITIES\n",
    "- Basic Python\n",
    "- Big O notation "
   ]
  },
  {
   "cell_type": "markdown",
   "metadata": {},
   "source": [
    "## WEEK ONE"
   ]
  },
  {
   "attachments": {},
   "cell_type": "markdown",
   "metadata": {},
   "source": [
    "1. Arrays & Lists"
   ]
  },
  {
   "cell_type": "code",
   "execution_count": 2,
   "metadata": {},
   "outputs": [
    {
     "name": "stdout",
     "output_type": "stream",
     "text": [
      "Array \n",
      "\n",
      "1\n",
      "2\n",
      "3\n",
      "4\n",
      "5\n"
     ]
    }
   ],
   "source": [
    "from array import *\n",
    "\n",
    "print(\"Array \\n\")\n",
    "\n",
    "nums = array('i',[1,2,3,4,5])\n",
    "for x in nums:\n",
    "    print(x)\n"
   ]
  },
  {
   "cell_type": "code",
   "execution_count": 3,
   "metadata": {},
   "outputs": [
    {
     "name": "stdout",
     "output_type": "stream",
     "text": [
      "Accesing an Array\n",
      "3\n",
      "4\n"
     ]
    }
   ],
   "source": [
    "print(\"Accesing an Array\")\n",
    "\n",
    "print(nums[2])\n",
    "print(nums[3])"
   ]
  },
  {
   "cell_type": "code",
   "execution_count": 11,
   "metadata": {},
   "outputs": [
    {
     "name": "stdout",
     "output_type": "stream",
     "text": [
      "Insertion\n",
      "5\n",
      "2\n",
      "3\n",
      "4\n",
      "5\n",
      "6\n"
     ]
    }
   ],
   "source": [
    "print(\"Insertion\")\n",
    "\n",
    "nums.insert(5,6)\n",
    "\n",
    "for x in nums:\n",
    "    print(x)"
   ]
  },
  {
   "cell_type": "code",
   "execution_count": 12,
   "metadata": {},
   "outputs": [
    {
     "name": "stdout",
     "output_type": "stream",
     "text": [
      "Deletion\n",
      "\n",
      "5\n",
      "2\n",
      "3\n",
      "4\n",
      "5\n",
      "Searching \n",
      "\n",
      "2\n",
      "Updating\n",
      "\n",
      "5\n",
      "2\n",
      "3\n",
      "4\n",
      "5\n"
     ]
    }
   ],
   "source": [
    "print(\"Deletion\\n\")\n",
    "\n",
    "nums.remove(6)\n",
    "\n",
    "for x in nums:\n",
    "    print(x)\n",
    "\n",
    "\n",
    "print(\"Searching \\n\")\n",
    "\n",
    "print(nums.index(3))\n",
    "\n",
    "print(\"Updating\\n\")\n",
    "\n",
    "nums[0] = 5\n",
    "\n",
    "for x in nums:\n",
    "    print(x)"
   ]
  },
  {
   "attachments": {},
   "cell_type": "markdown",
   "metadata": {},
   "source": [
    "LISTS"
   ]
  },
  {
   "cell_type": "code",
   "execution_count": 17,
   "metadata": {},
   "outputs": [
    {
     "name": "stdout",
     "output_type": "stream",
     "text": [
      "Index\n",
      "Amen\n",
      "Itteration\n",
      "Amen\n",
      "23\n",
      "1.8\n",
      "Updating\n",
      "Amen\n",
      "23\n",
      "1.79\n",
      "Deleting\n",
      "Amen\n",
      "23\n"
     ]
    }
   ],
   "source": [
    "list1 = [\"Amen\" , 23, 1.80]\n",
    "\n",
    "print(\"Index\")\n",
    "print(list1[0])\n",
    "\n",
    "print(\"Itteration\")\n",
    "\n",
    "for x in list1:\n",
    "    print(x)\n",
    "\n",
    "print(\"Updating\")\n",
    "list1[2] = 1.79\n",
    "\n",
    "for x in list1:\n",
    "    print(x)\n",
    "\n",
    "print(\"Deleting\")\n",
    "del list1[2]\n",
    "\n",
    "for x in list1:\n",
    "    print(x)\n",
    "\n",
    "\n",
    "\n"
   ]
  },
  {
   "cell_type": "markdown",
   "metadata": {},
   "source": [
    "2. Strings"
   ]
  },
  {
   "cell_type": "markdown",
   "metadata": {},
   "source": [
    "3. HashMaps (Dictionaries)"
   ]
  },
  {
   "cell_type": "markdown",
   "metadata": {},
   "source": [
    "4. Recursion"
   ]
  },
  {
   "cell_type": "markdown",
   "metadata": {},
   "source": [
    "## WEEK TWO"
   ]
  },
  {
   "cell_type": "markdown",
   "metadata": {},
   "source": [
    "1. Sorting and Searching"
   ]
  },
  {
   "cell_type": "markdown",
   "metadata": {},
   "source": [
    "2. Matric"
   ]
  },
  {
   "cell_type": "markdown",
   "metadata": {},
   "source": [
    "3. Linked List"
   ]
  },
  {
   "cell_type": "code",
   "execution_count": 3,
   "metadata": {},
   "outputs": [
    {
     "name": "stdout",
     "output_type": "stream",
     "text": [
      "Creating a node: \n",
      "\n",
      "Mon\n",
      "Tue\n",
      "Wed\n"
     ]
    }
   ],
   "source": [
    "# CREATING A NODE]\n",
    "print('Creating a node: \\n')\n",
    "\n",
    "class node:\n",
    "    def __init__(self, data = None):\n",
    "        self.data = data\n",
    "        self.next = None\n",
    "    \n",
    "day1 = node('Mon')\n",
    "day2 = node('Tue')\n",
    "day3 = node('Wed')\n",
    "\n",
    "\n",
    "day1.next = day2\n",
    "day2.next = day3\n",
    "\n",
    "start = day1\n",
    "\n",
    "while start:\n",
    "    print(start.data)\n",
    "    start = start.next"
   ]
  },
  {
   "cell_type": "markdown",
   "metadata": {},
   "source": [
    "4. Queue"
   ]
  },
  {
   "cell_type": "markdown",
   "metadata": {},
   "source": [
    "5. Stacks"
   ]
  },
  {
   "cell_type": "markdown",
   "metadata": {},
   "source": [
    "## WEEK THREE"
   ]
  },
  {
   "cell_type": "markdown",
   "metadata": {},
   "source": [
    "1. Tree"
   ]
  },
  {
   "cell_type": "markdown",
   "metadata": {},
   "source": [
    "2. Graph"
   ]
  },
  {
   "cell_type": "markdown",
   "metadata": {},
   "source": [
    "3. Heap"
   ]
  },
  {
   "cell_type": "markdown",
   "metadata": {},
   "source": [
    "4. Trie"
   ]
  },
  {
   "cell_type": "markdown",
   "metadata": {},
   "source": [
    "## WEEK FOUR"
   ]
  },
  {
   "cell_type": "markdown",
   "metadata": {},
   "source": [
    "1. Interval"
   ]
  },
  {
   "cell_type": "markdown",
   "metadata": {},
   "source": [
    "2. Dynamic Programming"
   ]
  },
  {
   "cell_type": "markdown",
   "metadata": {},
   "source": [
    "3. Binary"
   ]
  },
  {
   "cell_type": "markdown",
   "metadata": {},
   "source": [
    "4. Math and Geometry"
   ]
  }
 ],
 "metadata": {
  "kernelspec": {
   "display_name": "Python 3.10.7 64-bit",
   "language": "python",
   "name": "python3"
  },
  "language_info": {
   "codemirror_mode": {
    "name": "ipython",
    "version": 3
   },
   "file_extension": ".py",
   "mimetype": "text/x-python",
   "name": "python",
   "nbconvert_exporter": "python",
   "pygments_lexer": "ipython3",
   "version": "3.10.7"
  },
  "orig_nbformat": 4,
  "vscode": {
   "interpreter": {
    "hash": "aee8b7b246df8f9039afb4144a1f6fd8d2ca17a180786b69acc140d282b71a49"
   }
  }
 },
 "nbformat": 4,
 "nbformat_minor": 2
}
